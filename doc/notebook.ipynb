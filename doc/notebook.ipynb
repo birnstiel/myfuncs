{
 "cells": [
  {
   "cell_type": "markdown",
   "metadata": {
    "slideshow": {
     "slide_type": "slide"
    }
   },
   "source": [
    "## Python Packaging\n",
    "\n",
    "for more info, see <https://packaging.python.org>"
   ]
  },
  {
   "cell_type": "markdown",
   "metadata": {
    "slideshow": {
     "slide_type": "slide"
    }
   },
   "source": [
    "## Why Packaging?\n",
    "\n",
    "Once you have started writing a few functions in a notebook, it quickly makes sense to put them in an extra file:"
   ]
  },
  {
   "cell_type": "code",
   "execution_count": 1,
   "metadata": {
    "slideshow": {
     "slide_type": "skip"
    }
   },
   "outputs": [],
   "source": [
    "import matplotlib.pyplot as plt\n",
    "import IPython"
   ]
  },
  {
   "cell_type": "code",
   "execution_count": 2,
   "metadata": {},
   "outputs": [],
   "source": [
    "f = 2"
   ]
  },
  {
   "cell_type": "code",
   "execution_count": 3,
   "metadata": {},
   "outputs": [],
   "source": [
    "def mypower(a):\n",
    "    return a**f"
   ]
  },
  {
   "cell_type": "code",
   "execution_count": 4,
   "metadata": {
    "slideshow": {
     "slide_type": "fragment"
    }
   },
   "outputs": [
    {
     "data": {
      "text/plain": [
       "4"
      ]
     },
     "execution_count": 4,
     "metadata": {},
     "output_type": "execute_result"
    }
   ],
   "source": [
    "mypower(2)"
   ]
  },
  {
   "cell_type": "code",
   "execution_count": 5,
   "metadata": {
    "slideshow": {
     "slide_type": "fragment"
    }
   },
   "outputs": [
    {
     "data": {
      "image/png": "[encoded data removed]",
      "text/plain": [
       "<Figure size 432x288 with 1 Axes>"
      ]
     },
     "metadata": {
      "needs_background": "light"
     },
     "output_type": "display_data"
    }
   ],
   "source": [
    "f, ax = plt.subplots()"
   ]
  },
  {
   "cell_type": "code",
   "execution_count": 6,
   "metadata": {
    "scrolled": false,
    "slideshow": {
     "slide_type": "fragment"
    }
   },
   "outputs": [
    {
     "ename": "TypeError",
     "evalue": "unsupported operand type(s) for ** or pow(): 'int' and 'Figure'",
     "output_type": "error",
     "traceback": [
      "\u001b[0;31m---------------------------------------------------------------------------\u001b[0m",
      "\u001b[0;31mTypeError\u001b[0m                                 Traceback (most recent call last)",
      "\u001b[0;32m<ipython-input-6-351974d6ff87>\u001b[0m in \u001b[0;36m<module>\u001b[0;34m\u001b[0m\n\u001b[0;32m----> 1\u001b[0;31m \u001b[0mmypower\u001b[0m\u001b[0;34m(\u001b[0m\u001b[0;36m2\u001b[0m\u001b[0;34m)\u001b[0m\u001b[0;34m\u001b[0m\u001b[0;34m\u001b[0m\u001b[0m\n\u001b[0m",
      "\u001b[0;32m<ipython-input-3-a58bb9a0b9b9>\u001b[0m in \u001b[0;36mmypower\u001b[0;34m(a)\u001b[0m\n\u001b[1;32m      1\u001b[0m \u001b[0;32mdef\u001b[0m \u001b[0mmypower\u001b[0m\u001b[0;34m(\u001b[0m\u001b[0ma\u001b[0m\u001b[0;34m)\u001b[0m\u001b[0;34m:\u001b[0m\u001b[0;34m\u001b[0m\u001b[0;34m\u001b[0m\u001b[0m\n\u001b[0;32m----> 2\u001b[0;31m     \u001b[0;32mreturn\u001b[0m \u001b[0ma\u001b[0m\u001b[0;34m**\u001b[0m\u001b[0mf\u001b[0m\u001b[0;34m\u001b[0m\u001b[0;34m\u001b[0m\u001b[0m\n\u001b[0m",
      "\u001b[0;31mTypeError\u001b[0m: unsupported operand type(s) for ** or pow(): 'int' and 'Figure'"
     ]
    }
   ],
   "source": [
    "mypower(2)"
   ]
  },
  {
   "cell_type": "markdown",
   "metadata": {
    "slideshow": {
     "slide_type": "slide"
    }
   },
   "source": [
    "# Simplest packaging 1"
   ]
  },
  {
   "cell_type": "markdown",
   "metadata": {},
   "source": [
    "You put it in a file, e.g. `functions.py`. Upside:\n",
    "\n",
    "- it's encapsuled: no cross-talk / name space overlap\n",
    "- it cleans up your name space\n",
    "- the file can be opened in an *IDE*: shows errors"
   ]
  },
  {
   "cell_type": "markdown",
   "metadata": {},
   "source": [
    "<img src=\"image01.png\" width=50% />"
   ]
  },
  {
   "cell_type": "markdown",
   "metadata": {
    "slideshow": {
     "slide_type": "subslide"
    }
   },
   "source": [
    "# Simplest packaging 2"
   ]
  },
  {
   "cell_type": "markdown",
   "metadata": {},
   "source": [
    "**Upside** of this approach: **easy**\n",
    "\n",
    "```python\n",
    "from functions import mypower\n",
    "```\n",
    "\n",
    "**Downside** of this approach:\n",
    "\n",
    "- it works only *locally*, or you need to put the file where python can find it.\n",
    "\n",
    "Messy solution: use `PYTHONPATH`"
   ]
  },
  {
   "cell_type": "markdown",
   "metadata": {
    "slideshow": {
     "slide_type": "subslide"
    }
   },
   "source": [
    "# Simplest packaging 3"
   ]
  },
  {
   "cell_type": "markdown",
   "metadata": {},
   "source": [
    "Directly in your shell, or e.g. your `.bashrc`:\n",
    "```bash\n",
    "export PYTHONPATH=/path/where/file/is:$PYTHONPATH\n",
    "```"
   ]
  },
  {
   "cell_type": "markdown",
   "metadata": {
    "slideshow": {
     "slide_type": "fragment"
    }
   },
   "source": [
    "Or in python:\n",
    "\n",
    "```python\n",
    "import sys.env\n",
    "sys.path.insert(0, '/path/where/file/is')\n",
    "```"
   ]
  },
  {
   "cell_type": "markdown",
   "metadata": {
    "slideshow": {
     "slide_type": "fragment"
    }
   },
   "source": [
    "#### **But don't do that!**"
   ]
  },
  {
   "cell_type": "markdown",
   "metadata": {
    "slideshow": {
     "slide_type": "slide"
    }
   },
   "source": [
    "# Better packaging\n",
    "\n",
    "Make a package that can be installed"
   ]
  },
  {
   "cell_type": "markdown",
   "metadata": {},
   "source": [
    "Basic idea:\n",
    "    \n",
    "- **`setup.py`** installs the package `myfuncs`\n",
    "- **`__init__.py`** ... \n",
    "    - ... just needs to exist for python to realize that this folder is a package\n",
    "    - ... is called whenever you import the package\n",
    "    - ... can take care of 'arranging' the name space (see later)\n",
    "    - ... could also contain the code in a simple case with no other files in the `myfuncs` folder"
   ]
  },
  {
   "cell_type": "markdown",
   "metadata": {},
   "source": [
    "    /-|\n",
    "      |- myfuncs/\n",
    "      |  |- __init__.py\n",
    "      |  |- functions.py\n",
    "      |\n",
    "      |- setup.py"
   ]
  },
  {
   "cell_type": "markdown",
   "metadata": {
    "slideshow": {
     "slide_type": "subslide"
    }
   },
   "source": [
    "# Even better"
   ]
  },
  {
   "cell_type": "markdown",
   "metadata": {
    "slideshow": {
     "slide_type": "-"
    }
   },
   "source": [
    "    /-|\n",
    "      |- myfuncs/\n",
    "      |  |- __init__.py\n",
    "      |  |- functions.py\n",
    "      |\n",
    "      |- docs/\n",
    "      |  |- ...\n",
    "      |\n",
    "      |- tests/\n",
    "      |  |- ... \n",
    "      |\n",
    "      |- setup.py\n",
    "      |- README.md\n",
    "      |- LICENSE\n",
    "      |- MANIFEST.in\n",
    "      |- requirements.txt"
   ]
  },
  {
   "cell_type": "markdown",
   "metadata": {},
   "source": [
    "- **`README`**  \n",
    "    - is typically a `.md` or `.rst`\n",
    "    - is shown on the github website\n",
    "    - can be included in the package description (see `setup.py`)\n",
    "- **`LICENSE`**\n",
    "    - choose your license (github or creative commons have help pages to pick a license)\n",
    "    - is common but not required afaik\n",
    "- **`requirements.txt`**  \n",
    "    - is a simple requirements file, can also use `environment.yml`\n",
    "    - is just a text file containing required packages, e.g. containing:\n",
    "    \n",
    "            matplotlib>=1.5.1\n",
    "            numpy\n",
    "            scipy=0.17.0\n",
    "            -e git://github.com/birnstiel/XYZ.git#egg=XYZ        \n",
    "            \n",
    "- **MANIFEST.in**  \n",
    "    is used to announce which files should\n",
    "    be part of the package. Python files\n",
    "    are included automatically, so here our `MANIFEST.in` should contain\n",
    "    \n",
    "        include Readme.md\n",
    "        include LICENSE\n",
    "        include doc/notebook.ipynb"
   ]
  },
  {
   "cell_type": "markdown",
   "metadata": {
    "slideshow": {
     "slide_type": "subslide"
    }
   },
   "source": [
    "# `setup.py`\n",
    "\n",
    "from [packaging.python.org](https://packaging.python.org/tutorials/packaging-projects/):\n",
    "\n",
    "```python\n",
    "import setuptools\n",
    "\n",
    "with open(\"README.md\", \"r\", encoding=\"utf-8\") as fh:\n",
    "    long_description = fh.read()\n",
    "\n",
    "setuptools.setup(\n",
    "    name=\"example-pkg-YOUR-USERNAME-HERE\", # Replace with your own username\n",
    "    version=\"0.0.1\",\n",
    "    author=\"Example Author\",\n",
    "    author_email=\"author@example.com\",\n",
    "    description=\"A small example package\",\n",
    "    long_description=long_description,\n",
    "    long_description_content_type=\"text/markdown\",\n",
    "    url=\"https://github.com/pypa/sampleproject\",\n",
    "    packages=setuptools.find_packages(),\n",
    "    classifiers=[\n",
    "        \"Programming Language :: Python :: 3\",\n",
    "        \"License :: OSI Approved :: MIT License\",\n",
    "        \"Operating System :: OS Independent\",\n",
    "    ],\n",
    "    python_requires='>=3.6',\n",
    ")\n",
    "```"
   ]
  },
  {
   "cell_type": "markdown",
   "metadata": {
    "slideshow": {
     "slide_type": "subslide"
    }
   },
   "source": [
    "### My example"
   ]
  },
  {
   "cell_type": "code",
   "execution_count": 7,
   "metadata": {
    "scrolled": false
   },
   "outputs": [
    {
     "data": {
      "text/html": [
       "<style>pre { line-height: 125%; margin: 0; }\n",
       "td.linenos pre { color: #000000; background-color: #f0f0f0; padding-left: 5px; padding-right: 5px; }\n",
       "span.linenos { color: #000000; background-color: #f0f0f0; padding-left: 5px; padding-right: 5px; }\n",
       "td.linenos pre.special { color: #000000; background-color: #ffffc0; padding-left: 5px; padding-right: 5px; }\n",
       "span.linenos.special { color: #000000; background-color: #ffffc0; padding-left: 5px; padding-right: 5px; }\n",
       ".output_html .hll { background-color: #ffffcc }\n",
       ".output_html { background: #f8f8f8; }\n",
       ".output_html .c { color: #408080; font-style: italic } /* Comment */\n",
       ".output_html .err { border: 1px solid #FF0000 } /* Error */\n",
       ".output_html .k { color: #008000; font-weight: bold } /* Keyword */\n",
       ".output_html .o { color: #666666 } /* Operator */\n",
       ".output_html .ch { color: #408080; font-style: italic } /* Comment.Hashbang */\n",
       ".output_html .cm { color: #408080; font-style: italic } /* Comment.Multiline */\n",
       ".output_html .cp { color: #BC7A00 } /* Comment.Preproc */\n",
       ".output_html .cpf { color: #408080; font-style: italic } /* Comment.PreprocFile */\n",
       ".output_html .c1 { color: #408080; font-style: italic } /* Comment.Single */\n",
       ".output_html .cs { color: #408080; font-style: italic } /* Comment.Special */\n",
       ".output_html .gd { color: #A00000 } /* Generic.Deleted */\n",
       ".output_html .ge { font-style: italic } /* Generic.Emph */\n",
       ".output_html .gr { color: #FF0000 } /* Generic.Error */\n",
       ".output_html .gh { color: #000080; font-weight: bold } /* Generic.Heading */\n",
       ".output_html .gi { color: #00A000 } /* Generic.Inserted */\n",
       ".output_html .go { color: #888888 } /* Generic.Output */\n",
       ".output_html .gp { color: #000080; font-weight: bold } /* Generic.Prompt */\n",
       ".output_html .gs { font-weight: bold } /* Generic.Strong */\n",
       ".output_html .gu { color: #800080; font-weight: bold } /* Generic.Subheading */\n",
       ".output_html .gt { color: #0044DD } /* Generic.Traceback */\n",
       ".output_html .kc { color: #008000; font-weight: bold } /* Keyword.Constant */\n",
       ".output_html .kd { color: #008000; font-weight: bold } /* Keyword.Declaration */\n",
       ".output_html .kn { color: #008000; font-weight: bold } /* Keyword.Namespace */\n",
       ".output_html .kp { color: #008000 } /* Keyword.Pseudo */\n",
       ".output_html .kr { color: #008000; font-weight: bold } /* Keyword.Reserved */\n",
       ".output_html .kt { color: #B00040 } /* Keyword.Type */\n",
       ".output_html .m { color: #666666 } /* Literal.Number */\n",
       ".output_html .s { color: #BA2121 } /* Literal.String */\n",
       ".output_html .na { color: #7D9029 } /* Name.Attribute */\n",
       ".output_html .nb { color: #008000 } /* Name.Builtin */\n",
       ".output_html .nc { color: #0000FF; font-weight: bold } /* Name.Class */\n",
       ".output_html .no { color: #880000 } /* Name.Constant */\n",
       ".output_html .nd { color: #AA22FF } /* Name.Decorator */\n",
       ".output_html .ni { color: #999999; font-weight: bold } /* Name.Entity */\n",
       ".output_html .ne { color: #D2413A; font-weight: bold } /* Name.Exception */\n",
       ".output_html .nf { color: #0000FF } /* Name.Function */\n",
       ".output_html .nl { color: #A0A000 } /* Name.Label */\n",
       ".output_html .nn { color: #0000FF; font-weight: bold } /* Name.Namespace */\n",
       ".output_html .nt { color: #008000; font-weight: bold } /* Name.Tag */\n",
       ".output_html .nv { color: #19177C } /* Name.Variable */\n",
       ".output_html .ow { color: #AA22FF; font-weight: bold } /* Operator.Word */\n",
       ".output_html .w { color: #bbbbbb } /* Text.Whitespace */\n",
       ".output_html .mb { color: #666666 } /* Literal.Number.Bin */\n",
       ".output_html .mf { color: #666666 } /* Literal.Number.Float */\n",
       ".output_html .mh { color: #666666 } /* Literal.Number.Hex */\n",
       ".output_html .mi { color: #666666 } /* Literal.Number.Integer */\n",
       ".output_html .mo { color: #666666 } /* Literal.Number.Oct */\n",
       ".output_html .sa { color: #BA2121 } /* Literal.String.Affix */\n",
       ".output_html .sb { color: #BA2121 } /* Literal.String.Backtick */\n",
       ".output_html .sc { color: #BA2121 } /* Literal.String.Char */\n",
       ".output_html .dl { color: #BA2121 } /* Literal.String.Delimiter */\n",
       ".output_html .sd { color: #BA2121; font-style: italic } /* Literal.String.Doc */\n",
       ".output_html .s2 { color: #BA2121 } /* Literal.String.Double */\n",
       ".output_html .se { color: #BB6622; font-weight: bold } /* Literal.String.Escape */\n",
       ".output_html .sh { color: #BA2121 } /* Literal.String.Heredoc */\n",
       ".output_html .si { color: #BB6688; font-weight: bold } /* Literal.String.Interpol */\n",
       ".output_html .sx { color: #008000 } /* Literal.String.Other */\n",
       ".output_html .sr { color: #BB6688 } /* Literal.String.Regex */\n",
       ".output_html .s1 { color: #BA2121 } /* Literal.String.Single */\n",
       ".output_html .ss { color: #19177C } /* Literal.String.Symbol */\n",
       ".output_html .bp { color: #008000 } /* Name.Builtin.Pseudo */\n",
       ".output_html .fm { color: #0000FF } /* Name.Function.Magic */\n",
       ".output_html .vc { color: #19177C } /* Name.Variable.Class */\n",
       ".output_html .vg { color: #19177C } /* Name.Variable.Global */\n",
       ".output_html .vi { color: #19177C } /* Name.Variable.Instance */\n",
       ".output_html .vm { color: #19177C } /* Name.Variable.Magic */\n",
       ".output_html .il { color: #666666 } /* Literal.Number.Integer.Long */</style><div class=\"highlight\"><pre><span></span><span class=\"sd\">&quot;&quot;&quot;</span>\n",
       "<span class=\"sd\">Setup file for package `myfuncs`.</span>\n",
       "<span class=\"sd\">&quot;&quot;&quot;</span>\n",
       "<span class=\"kn\">from</span> <span class=\"nn\">setuptools</span> <span class=\"kn\">import</span> <span class=\"n\">setup</span>\n",
       "<span class=\"kn\">import</span> <span class=\"nn\">pathlib</span>\n",
       "\n",
       "<span class=\"n\">PACKAGENAME</span> <span class=\"o\">=</span> <span class=\"s1\">&#39;myfuncs&#39;</span>\n",
       "\n",
       "<span class=\"c1\"># the directory where this setup.py resides</span>\n",
       "\n",
       "<span class=\"n\">HERE</span> <span class=\"o\">=</span> <span class=\"n\">pathlib</span><span class=\"o\">.</span><span class=\"n\">Path</span><span class=\"p\">(</span><span class=\"vm\">__file__</span><span class=\"p\">)</span><span class=\"o\">.</span><span class=\"n\">absolute</span><span class=\"p\">()</span><span class=\"o\">.</span><span class=\"n\">parent</span>\n",
       "\n",
       "<span class=\"c1\"># function to parse the version from</span>\n",
       "\n",
       "\n",
       "<span class=\"k\">def</span> <span class=\"nf\">read_version</span><span class=\"p\">():</span>\n",
       "    <span class=\"k\">with</span> <span class=\"p\">(</span><span class=\"n\">HERE</span> <span class=\"o\">/</span> <span class=\"n\">PACKAGENAME</span> <span class=\"o\">/</span> <span class=\"s1\">&#39;__init__.py&#39;</span><span class=\"p\">)</span><span class=\"o\">.</span><span class=\"n\">open</span><span class=\"p\">()</span> <span class=\"k\">as</span> <span class=\"n\">fid</span><span class=\"p\">:</span>\n",
       "        <span class=\"k\">for</span> <span class=\"n\">line</span> <span class=\"ow\">in</span> <span class=\"n\">fid</span><span class=\"p\">:</span>\n",
       "            <span class=\"k\">if</span> <span class=\"n\">line</span><span class=\"o\">.</span><span class=\"n\">startswith</span><span class=\"p\">(</span><span class=\"s1\">&#39;__version__&#39;</span><span class=\"p\">):</span>\n",
       "                <span class=\"n\">delim</span> <span class=\"o\">=</span> <span class=\"s1\">&#39;&quot;&#39;</span> <span class=\"k\">if</span> <span class=\"s1\">&#39;&quot;&#39;</span> <span class=\"ow\">in</span> <span class=\"n\">line</span> <span class=\"k\">else</span> <span class=\"s2\">&quot;&#39;&quot;</span>\n",
       "                <span class=\"k\">return</span> <span class=\"n\">line</span><span class=\"o\">.</span><span class=\"n\">split</span><span class=\"p\">(</span><span class=\"n\">delim</span><span class=\"p\">)[</span><span class=\"mi\">1</span><span class=\"p\">]</span>\n",
       "        <span class=\"k\">else</span><span class=\"p\">:</span>\n",
       "            <span class=\"k\">raise</span> <span class=\"ne\">RuntimeError</span><span class=\"p\">(</span><span class=\"s2\">&quot;Unable to find version string.&quot;</span><span class=\"p\">)</span>\n",
       "\n",
       "\n",
       "<span class=\"k\">if</span> <span class=\"vm\">__name__</span> <span class=\"o\">==</span> <span class=\"s2\">&quot;__main__&quot;</span><span class=\"p\">:</span>\n",
       "\n",
       "    <span class=\"n\">setup</span><span class=\"p\">(</span>\n",
       "        <span class=\"n\">name</span><span class=\"o\">=</span><span class=\"n\">PACKAGENAME</span><span class=\"p\">,</span>\n",
       "        <span class=\"n\">description</span><span class=\"o\">=</span><span class=\"s1\">&#39;my helper functions&#39;</span><span class=\"p\">,</span>\n",
       "        <span class=\"n\">version</span><span class=\"o\">=</span><span class=\"n\">read_version</span><span class=\"p\">(),</span>\n",
       "        <span class=\"n\">long_description</span><span class=\"o\">=</span><span class=\"p\">(</span><span class=\"n\">HERE</span> <span class=\"o\">/</span> <span class=\"s2\">&quot;README.md&quot;</span><span class=\"p\">)</span><span class=\"o\">.</span><span class=\"n\">read_text</span><span class=\"p\">(),</span>\n",
       "        <span class=\"n\">long_description_content_type</span><span class=\"o\">=</span><span class=\"s1\">&#39;text/markdown&#39;</span><span class=\"p\">,</span>\n",
       "        <span class=\"n\">url</span><span class=\"o\">=</span><span class=\"s1\">&#39;https://github.com/birnstiel/&#39;</span> <span class=\"o\">+</span> <span class=\"n\">PACKAGENAME</span><span class=\"o\">.</span><span class=\"n\">lower</span><span class=\"p\">(),</span>\n",
       "        <span class=\"n\">author</span><span class=\"o\">=</span><span class=\"s1\">&#39;Til Birnstiel&#39;</span><span class=\"p\">,</span>\n",
       "        <span class=\"n\">author_email</span><span class=\"o\">=</span><span class=\"s1\">&#39;til.birnstiel@lmu.de&#39;</span><span class=\"p\">,</span>\n",
       "        <span class=\"n\">license</span><span class=\"o\">=</span><span class=\"s1\">&#39;GPLv3&#39;</span><span class=\"p\">,</span>\n",
       "        <span class=\"n\">packages</span><span class=\"o\">=</span><span class=\"p\">[</span><span class=\"n\">PACKAGENAME</span><span class=\"p\">],</span>\n",
       "        <span class=\"n\">package_data</span><span class=\"o\">=</span><span class=\"p\">{</span><span class=\"n\">PACKAGENAME</span><span class=\"p\">:</span> <span class=\"p\">[</span>\n",
       "            <span class=\"s1\">&#39;data1/data.txt&#39;</span><span class=\"p\">,</span>\n",
       "            <span class=\"s1\">&#39;data2/data.txt&#39;</span><span class=\"p\">,</span>\n",
       "        <span class=\"p\">]},</span>\n",
       "        <span class=\"n\">include_package_data</span><span class=\"o\">=</span><span class=\"kc\">True</span><span class=\"p\">,</span>\n",
       "        <span class=\"n\">install_requires</span><span class=\"o\">=</span><span class=\"p\">[</span>\n",
       "            <span class=\"s1\">&#39;pytest&#39;</span><span class=\"p\">,</span>\n",
       "            <span class=\"s1\">&#39;numpy&#39;</span><span class=\"p\">],</span>\n",
       "        <span class=\"n\">python_requires</span><span class=\"o\">=</span><span class=\"s1\">&#39;&gt;=3.6&#39;</span><span class=\"p\">,</span>\n",
       "    <span class=\"p\">)</span>\n",
       "</pre></div>\n"
      ],
      "text/latex": [
       "\\begin{Verbatim}[commandchars=\\\\\\{\\}]\n",
       "\\PY{l+s+sd}{\\PYZdq{}\\PYZdq{}\\PYZdq{}}\n",
       "\\PY{l+s+sd}{Setup file for package `myfuncs`.}\n",
       "\\PY{l+s+sd}{\\PYZdq{}\\PYZdq{}\\PYZdq{}}\n",
       "\\PY{k+kn}{from} \\PY{n+nn}{setuptools} \\PY{k+kn}{import} \\PY{n}{setup}\n",
       "\\PY{k+kn}{import} \\PY{n+nn}{pathlib}\n",
       "\n",
       "\\PY{n}{PACKAGENAME} \\PY{o}{=} \\PY{l+s+s1}{\\PYZsq{}}\\PY{l+s+s1}{myfuncs}\\PY{l+s+s1}{\\PYZsq{}}\n",
       "\n",
       "\\PY{c+c1}{\\PYZsh{} the directory where this setup.py resides}\n",
       "\n",
       "\\PY{n}{HERE} \\PY{o}{=} \\PY{n}{pathlib}\\PY{o}{.}\\PY{n}{Path}\\PY{p}{(}\\PY{n+nv+vm}{\\PYZus{}\\PYZus{}file\\PYZus{}\\PYZus{}}\\PY{p}{)}\\PY{o}{.}\\PY{n}{absolute}\\PY{p}{(}\\PY{p}{)}\\PY{o}{.}\\PY{n}{parent}\n",
       "\n",
       "\\PY{c+c1}{\\PYZsh{} function to parse the version from}\n",
       "\n",
       "\n",
       "\\PY{k}{def} \\PY{n+nf}{read\\PYZus{}version}\\PY{p}{(}\\PY{p}{)}\\PY{p}{:}\n",
       "    \\PY{k}{with} \\PY{p}{(}\\PY{n}{HERE} \\PY{o}{/} \\PY{n}{PACKAGENAME} \\PY{o}{/} \\PY{l+s+s1}{\\PYZsq{}}\\PY{l+s+s1}{\\PYZus{}\\PYZus{}init\\PYZus{}\\PYZus{}.py}\\PY{l+s+s1}{\\PYZsq{}}\\PY{p}{)}\\PY{o}{.}\\PY{n}{open}\\PY{p}{(}\\PY{p}{)} \\PY{k}{as} \\PY{n}{fid}\\PY{p}{:}\n",
       "        \\PY{k}{for} \\PY{n}{line} \\PY{o+ow}{in} \\PY{n}{fid}\\PY{p}{:}\n",
       "            \\PY{k}{if} \\PY{n}{line}\\PY{o}{.}\\PY{n}{startswith}\\PY{p}{(}\\PY{l+s+s1}{\\PYZsq{}}\\PY{l+s+s1}{\\PYZus{}\\PYZus{}version\\PYZus{}\\PYZus{}}\\PY{l+s+s1}{\\PYZsq{}}\\PY{p}{)}\\PY{p}{:}\n",
       "                \\PY{n}{delim} \\PY{o}{=} \\PY{l+s+s1}{\\PYZsq{}}\\PY{l+s+s1}{\\PYZdq{}}\\PY{l+s+s1}{\\PYZsq{}} \\PY{k}{if} \\PY{l+s+s1}{\\PYZsq{}}\\PY{l+s+s1}{\\PYZdq{}}\\PY{l+s+s1}{\\PYZsq{}} \\PY{o+ow}{in} \\PY{n}{line} \\PY{k}{else} \\PY{l+s+s2}{\\PYZdq{}}\\PY{l+s+s2}{\\PYZsq{}}\\PY{l+s+s2}{\\PYZdq{}}\n",
       "                \\PY{k}{return} \\PY{n}{line}\\PY{o}{.}\\PY{n}{split}\\PY{p}{(}\\PY{n}{delim}\\PY{p}{)}\\PY{p}{[}\\PY{l+m+mi}{1}\\PY{p}{]}\n",
       "        \\PY{k}{else}\\PY{p}{:}\n",
       "            \\PY{k}{raise} \\PY{n+ne}{RuntimeError}\\PY{p}{(}\\PY{l+s+s2}{\\PYZdq{}}\\PY{l+s+s2}{Unable to find version string.}\\PY{l+s+s2}{\\PYZdq{}}\\PY{p}{)}\n",
       "\n",
       "\n",
       "\\PY{k}{if} \\PY{n+nv+vm}{\\PYZus{}\\PYZus{}name\\PYZus{}\\PYZus{}} \\PY{o}{==} \\PY{l+s+s2}{\\PYZdq{}}\\PY{l+s+s2}{\\PYZus{}\\PYZus{}main\\PYZus{}\\PYZus{}}\\PY{l+s+s2}{\\PYZdq{}}\\PY{p}{:}\n",
       "\n",
       "    \\PY{n}{setup}\\PY{p}{(}\n",
       "        \\PY{n}{name}\\PY{o}{=}\\PY{n}{PACKAGENAME}\\PY{p}{,}\n",
       "        \\PY{n}{description}\\PY{o}{=}\\PY{l+s+s1}{\\PYZsq{}}\\PY{l+s+s1}{my helper functions}\\PY{l+s+s1}{\\PYZsq{}}\\PY{p}{,}\n",
       "        \\PY{n}{version}\\PY{o}{=}\\PY{n}{read\\PYZus{}version}\\PY{p}{(}\\PY{p}{)}\\PY{p}{,}\n",
       "        \\PY{n}{long\\PYZus{}description}\\PY{o}{=}\\PY{p}{(}\\PY{n}{HERE} \\PY{o}{/} \\PY{l+s+s2}{\\PYZdq{}}\\PY{l+s+s2}{README.md}\\PY{l+s+s2}{\\PYZdq{}}\\PY{p}{)}\\PY{o}{.}\\PY{n}{read\\PYZus{}text}\\PY{p}{(}\\PY{p}{)}\\PY{p}{,}\n",
       "        \\PY{n}{long\\PYZus{}description\\PYZus{}content\\PYZus{}type}\\PY{o}{=}\\PY{l+s+s1}{\\PYZsq{}}\\PY{l+s+s1}{text/markdown}\\PY{l+s+s1}{\\PYZsq{}}\\PY{p}{,}\n",
       "        \\PY{n}{url}\\PY{o}{=}\\PY{l+s+s1}{\\PYZsq{}}\\PY{l+s+s1}{https://github.com/birnstiel/}\\PY{l+s+s1}{\\PYZsq{}} \\PY{o}{+} \\PY{n}{PACKAGENAME}\\PY{o}{.}\\PY{n}{lower}\\PY{p}{(}\\PY{p}{)}\\PY{p}{,}\n",
       "        \\PY{n}{author}\\PY{o}{=}\\PY{l+s+s1}{\\PYZsq{}}\\PY{l+s+s1}{Til Birnstiel}\\PY{l+s+s1}{\\PYZsq{}}\\PY{p}{,}\n",
       "        \\PY{n}{author\\PYZus{}email}\\PY{o}{=}\\PY{l+s+s1}{\\PYZsq{}}\\PY{l+s+s1}{til.birnstiel@lmu.de}\\PY{l+s+s1}{\\PYZsq{}}\\PY{p}{,}\n",
       "        \\PY{n}{license}\\PY{o}{=}\\PY{l+s+s1}{\\PYZsq{}}\\PY{l+s+s1}{GPLv3}\\PY{l+s+s1}{\\PYZsq{}}\\PY{p}{,}\n",
       "        \\PY{n}{packages}\\PY{o}{=}\\PY{p}{[}\\PY{n}{PACKAGENAME}\\PY{p}{]}\\PY{p}{,}\n",
       "        \\PY{n}{package\\PYZus{}data}\\PY{o}{=}\\PY{p}{\\PYZob{}}\\PY{n}{PACKAGENAME}\\PY{p}{:} \\PY{p}{[}\n",
       "            \\PY{l+s+s1}{\\PYZsq{}}\\PY{l+s+s1}{data1/data.txt}\\PY{l+s+s1}{\\PYZsq{}}\\PY{p}{,}\n",
       "            \\PY{l+s+s1}{\\PYZsq{}}\\PY{l+s+s1}{data2/data.txt}\\PY{l+s+s1}{\\PYZsq{}}\\PY{p}{,}\n",
       "        \\PY{p}{]}\\PY{p}{\\PYZcb{}}\\PY{p}{,}\n",
       "        \\PY{n}{include\\PYZus{}package\\PYZus{}data}\\PY{o}{=}\\PY{k+kc}{True}\\PY{p}{,}\n",
       "        \\PY{n}{install\\PYZus{}requires}\\PY{o}{=}\\PY{p}{[}\n",
       "            \\PY{l+s+s1}{\\PYZsq{}}\\PY{l+s+s1}{pytest}\\PY{l+s+s1}{\\PYZsq{}}\\PY{p}{,}\n",
       "            \\PY{l+s+s1}{\\PYZsq{}}\\PY{l+s+s1}{numpy}\\PY{l+s+s1}{\\PYZsq{}}\\PY{p}{]}\\PY{p}{,}\n",
       "        \\PY{n}{python\\PYZus{}requires}\\PY{o}{=}\\PY{l+s+s1}{\\PYZsq{}}\\PY{l+s+s1}{\\PYZgt{}=3.6}\\PY{l+s+s1}{\\PYZsq{}}\\PY{p}{,}\n",
       "    \\PY{p}{)}\n",
       "\\end{Verbatim}\n"
      ],
      "text/plain": [
       "\"\"\"\n",
       "Setup file for package `myfuncs`.\n",
       "\"\"\"\n",
       "from setuptools import setup\n",
       "import pathlib\n",
       "\n",
       "PACKAGENAME = 'myfuncs'\n",
       "\n",
       "# the directory where this setup.py resides\n",
       "\n",
       "HERE = pathlib.Path(__file__).absolute().parent\n",
       "\n",
       "# function to parse the version from\n",
       "\n",
       "\n",
       "def read_version():\n",
       "    with (HERE / PACKAGENAME / '__init__.py').open() as fid:\n",
       "        for line in fid:\n",
       "            if line.startswith('__version__'):\n",
       "                delim = '\"' if '\"' in line else \"'\"\n",
       "                return line.split(delim)[1]\n",
       "        else:\n",
       "            raise RuntimeError(\"Unable to find version string.\")\n",
       "\n",
       "\n",
       "if __name__ == \"__main__\":\n",
       "\n",
       "    setup(\n",
       "        name=PACKAGENAME,\n",
       "        description='my helper functions',\n",
       "        version=read_version(),\n",
       "        long_description=(HERE / \"README.md\").read_text(),\n",
       "        long_description_content_type='text/markdown',\n",
       "        url='https://github.com/birnstiel/' + PACKAGENAME.lower(),\n",
       "        author='Til Birnstiel',\n",
       "        author_email='til.birnstiel@lmu.de',\n",
       "        license='GPLv3',\n",
       "        packages=[PACKAGENAME],\n",
       "        package_data={PACKAGENAME: [\n",
       "            'data1/data.txt',\n",
       "            'data2/data.txt',\n",
       "        ]},\n",
       "        include_package_data=True,\n",
       "        install_requires=[\n",
       "            'pytest',\n",
       "            'numpy'],\n",
       "        python_requires='>=3.6',\n",
       "    )"
      ]
     },
     "execution_count": 7,
     "metadata": {},
     "output_type": "execute_result"
    }
   ],
   "source": [
    "IPython.display.Code(filename='../setup.py')"
   ]
  },
  {
   "cell_type": "markdown",
   "metadata": {
    "slideshow": {
     "slide_type": "subslide"
    }
   },
   "source": [
    "## `__init__.py`\n",
    "\n",
    "All python files in the folder `myfuncs` will be part of the package if a file named `__init__.py` exists, even if it is empty. Then our function is available as\n",
    "\n",
    "```python\n",
    "import myfuncs.functions.mypower\n",
    "```"
   ]
  },
  {
   "cell_type": "markdown",
   "metadata": {
    "slideshow": {
     "slide_type": "subslide"
    }
   },
   "source": [
    "you can also change this in `__init__.py`, for example if you put:\n",
    "\n",
    "```python\n",
    "from .functions import mypower as fct\n",
    "\n",
    "```\n",
    "\n",
    "now there is\n",
    "\n",
    "```python\n",
    "import myfuncs\n",
    "myfuncs.fct\n",
    "myfuncs.functions.myfunc\n",
    "myfuncs.functions.f\n",
    "```"
   ]
  },
  {
   "cell_type": "markdown",
   "metadata": {
    "slideshow": {
     "slide_type": "subslide"
    }
   },
   "source": [
    "it is also good practice to define the version number here\n",
    "\n",
    "```python\n",
    "__version__ = '0.0.1'\n",
    "```"
   ]
  },
  {
   "cell_type": "markdown",
   "metadata": {
    "slideshow": {
     "slide_type": "subslide"
    }
   },
   "source": [
    "it is also handy to define\n",
    "\n",
    "```python\n",
    "__all__ = ['fct']\n",
    "```\n",
    "\n",
    "in `__init__.py` which tells python that a `from myfuncs import *` imports only those functions in the list (here just `fct`)."
   ]
  },
  {
   "cell_type": "markdown",
   "metadata": {
    "slideshow": {
     "slide_type": "subslide"
    }
   },
   "source": [
    "so the entire `__init__.py` in our example is:"
   ]
  },
  {
   "cell_type": "code",
   "execution_count": 8,
   "metadata": {},
   "outputs": [
    {
     "data": {
      "text/html": [
       "<style>pre { line-height: 125%; margin: 0; }\n",
       "td.linenos pre { color: #000000; background-color: #f0f0f0; padding-left: 5px; padding-right: 5px; }\n",
       "span.linenos { color: #000000; background-color: #f0f0f0; padding-left: 5px; padding-right: 5px; }\n",
       "td.linenos pre.special { color: #000000; background-color: #ffffc0; padding-left: 5px; padding-right: 5px; }\n",
       "span.linenos.special { color: #000000; background-color: #ffffc0; padding-left: 5px; padding-right: 5px; }\n",
       ".output_html .hll { background-color: #ffffcc }\n",
       ".output_html { background: #f8f8f8; }\n",
       ".output_html .c { color: #408080; font-style: italic } /* Comment */\n",
       ".output_html .err { border: 1px solid #FF0000 } /* Error */\n",
       ".output_html .k { color: #008000; font-weight: bold } /* Keyword */\n",
       ".output_html .o { color: #666666 } /* Operator */\n",
       ".output_html .ch { color: #408080; font-style: italic } /* Comment.Hashbang */\n",
       ".output_html .cm { color: #408080; font-style: italic } /* Comment.Multiline */\n",
       ".output_html .cp { color: #BC7A00 } /* Comment.Preproc */\n",
       ".output_html .cpf { color: #408080; font-style: italic } /* Comment.PreprocFile */\n",
       ".output_html .c1 { color: #408080; font-style: italic } /* Comment.Single */\n",
       ".output_html .cs { color: #408080; font-style: italic } /* Comment.Special */\n",
       ".output_html .gd { color: #A00000 } /* Generic.Deleted */\n",
       ".output_html .ge { font-style: italic } /* Generic.Emph */\n",
       ".output_html .gr { color: #FF0000 } /* Generic.Error */\n",
       ".output_html .gh { color: #000080; font-weight: bold } /* Generic.Heading */\n",
       ".output_html .gi { color: #00A000 } /* Generic.Inserted */\n",
       ".output_html .go { color: #888888 } /* Generic.Output */\n",
       ".output_html .gp { color: #000080; font-weight: bold } /* Generic.Prompt */\n",
       ".output_html .gs { font-weight: bold } /* Generic.Strong */\n",
       ".output_html .gu { color: #800080; font-weight: bold } /* Generic.Subheading */\n",
       ".output_html .gt { color: #0044DD } /* Generic.Traceback */\n",
       ".output_html .kc { color: #008000; font-weight: bold } /* Keyword.Constant */\n",
       ".output_html .kd { color: #008000; font-weight: bold } /* Keyword.Declaration */\n",
       ".output_html .kn { color: #008000; font-weight: bold } /* Keyword.Namespace */\n",
       ".output_html .kp { color: #008000 } /* Keyword.Pseudo */\n",
       ".output_html .kr { color: #008000; font-weight: bold } /* Keyword.Reserved */\n",
       ".output_html .kt { color: #B00040 } /* Keyword.Type */\n",
       ".output_html .m { color: #666666 } /* Literal.Number */\n",
       ".output_html .s { color: #BA2121 } /* Literal.String */\n",
       ".output_html .na { color: #7D9029 } /* Name.Attribute */\n",
       ".output_html .nb { color: #008000 } /* Name.Builtin */\n",
       ".output_html .nc { color: #0000FF; font-weight: bold } /* Name.Class */\n",
       ".output_html .no { color: #880000 } /* Name.Constant */\n",
       ".output_html .nd { color: #AA22FF } /* Name.Decorator */\n",
       ".output_html .ni { color: #999999; font-weight: bold } /* Name.Entity */\n",
       ".output_html .ne { color: #D2413A; font-weight: bold } /* Name.Exception */\n",
       ".output_html .nf { color: #0000FF } /* Name.Function */\n",
       ".output_html .nl { color: #A0A000 } /* Name.Label */\n",
       ".output_html .nn { color: #0000FF; font-weight: bold } /* Name.Namespace */\n",
       ".output_html .nt { color: #008000; font-weight: bold } /* Name.Tag */\n",
       ".output_html .nv { color: #19177C } /* Name.Variable */\n",
       ".output_html .ow { color: #AA22FF; font-weight: bold } /* Operator.Word */\n",
       ".output_html .w { color: #bbbbbb } /* Text.Whitespace */\n",
       ".output_html .mb { color: #666666 } /* Literal.Number.Bin */\n",
       ".output_html .mf { color: #666666 } /* Literal.Number.Float */\n",
       ".output_html .mh { color: #666666 } /* Literal.Number.Hex */\n",
       ".output_html .mi { color: #666666 } /* Literal.Number.Integer */\n",
       ".output_html .mo { color: #666666 } /* Literal.Number.Oct */\n",
       ".output_html .sa { color: #BA2121 } /* Literal.String.Affix */\n",
       ".output_html .sb { color: #BA2121 } /* Literal.String.Backtick */\n",
       ".output_html .sc { color: #BA2121 } /* Literal.String.Char */\n",
       ".output_html .dl { color: #BA2121 } /* Literal.String.Delimiter */\n",
       ".output_html .sd { color: #BA2121; font-style: italic } /* Literal.String.Doc */\n",
       ".output_html .s2 { color: #BA2121 } /* Literal.String.Double */\n",
       ".output_html .se { color: #BB6622; font-weight: bold } /* Literal.String.Escape */\n",
       ".output_html .sh { color: #BA2121 } /* Literal.String.Heredoc */\n",
       ".output_html .si { color: #BB6688; font-weight: bold } /* Literal.String.Interpol */\n",
       ".output_html .sx { color: #008000 } /* Literal.String.Other */\n",
       ".output_html .sr { color: #BB6688 } /* Literal.String.Regex */\n",
       ".output_html .s1 { color: #BA2121 } /* Literal.String.Single */\n",
       ".output_html .ss { color: #19177C } /* Literal.String.Symbol */\n",
       ".output_html .bp { color: #008000 } /* Name.Builtin.Pseudo */\n",
       ".output_html .fm { color: #0000FF } /* Name.Function.Magic */\n",
       ".output_html .vc { color: #19177C } /* Name.Variable.Class */\n",
       ".output_html .vg { color: #19177C } /* Name.Variable.Global */\n",
       ".output_html .vi { color: #19177C } /* Name.Variable.Instance */\n",
       ".output_html .vm { color: #19177C } /* Name.Variable.Magic */\n",
       ".output_html .il { color: #666666 } /* Literal.Number.Integer.Long */</style><div class=\"highlight\"><pre><span></span><span class=\"kn\">from</span> <span class=\"nn\">.functions</span> <span class=\"kn\">import</span> <span class=\"n\">mypower</span> <span class=\"k\">as</span> <span class=\"n\">fct</span>\n",
       "<span class=\"n\">__version__</span> <span class=\"o\">=</span> <span class=\"s1\">&#39;0.0.1&#39;</span>\n",
       "\n",
       "<span class=\"n\">__all__</span> <span class=\"o\">=</span> <span class=\"p\">[</span><span class=\"s1\">&#39;fct&#39;</span><span class=\"p\">]</span>\n",
       "</pre></div>\n"
      ],
      "text/latex": [
       "\\begin{Verbatim}[commandchars=\\\\\\{\\}]\n",
       "\\PY{k+kn}{from} \\PY{n+nn}{.}\\PY{n+nn}{functions} \\PY{k+kn}{import} \\PY{n}{mypower} \\PY{k}{as} \\PY{n}{fct}\n",
       "\\PY{n}{\\PYZus{}\\PYZus{}version\\PYZus{}\\PYZus{}} \\PY{o}{=} \\PY{l+s+s1}{\\PYZsq{}}\\PY{l+s+s1}{0.0.1}\\PY{l+s+s1}{\\PYZsq{}}\n",
       "\n",
       "\\PY{n}{\\PYZus{}\\PYZus{}all\\PYZus{}\\PYZus{}} \\PY{o}{=} \\PY{p}{[}\\PY{l+s+s1}{\\PYZsq{}}\\PY{l+s+s1}{fct}\\PY{l+s+s1}{\\PYZsq{}}\\PY{p}{]}\n",
       "\\end{Verbatim}\n"
      ],
      "text/plain": [
       "from .functions import mypower as fct\n",
       "__version__ = '0.0.1'\n",
       "\n",
       "__all__ = ['fct']"
      ]
     },
     "execution_count": 8,
     "metadata": {},
     "output_type": "execute_result"
    }
   ],
   "source": [
    "IPython.display.Code(filename='../myfuncs/__init__.py')"
   ]
  },
  {
   "cell_type": "markdown",
   "metadata": {
    "slideshow": {
     "slide_type": "slide"
    }
   },
   "source": [
    "# Installation"
   ]
  },
  {
   "cell_type": "markdown",
   "metadata": {},
   "source": [
    "### Full install\n",
    "\n",
    "Now we can install it either by issuing (from the folder where `setup.py` resides:\n",
    "\n",
    "    pip install .\n",
    "    \n",
    "This will install the package into your python distribution. Effectively it copies it there, in my case\n",
    "\n",
    "    ~/anaconda3/lib/python3.8/site-packages/myfuncs/\n",
    "\n",
    "Once that is done, you can `import myfuncs` in python from anyhwere."
   ]
  },
  {
   "cell_type": "markdown",
   "metadata": {
    "slideshow": {
     "slide_type": "subslide"
    }
   },
   "source": [
    "### Development install\n",
    "\n",
    "I install my packages always with:\n",
    "\n",
    "    pip install -e .\n",
    "    \n",
    "This will install the package as well, but instead of **copying** it will **link to this folder**. In my case:\n",
    "\n",
    "    ~/Dropbox/python-projects/toy-package/myfuncs/\n",
    "\n",
    "So when you change the package after the install, those changes will be there if you (re-)`import myfuncs`.\n",
    "\n",
    "\n",
    "In the 'full install', changes will only be in your distribution if you re-install it."
   ]
  },
  {
   "cell_type": "markdown",
   "metadata": {
    "slideshow": {
     "slide_type": "subslide"
    }
   },
   "source": [
    "# PyPI"
   ]
  },
  {
   "cell_type": "markdown",
   "metadata": {
    "slideshow": {
     "slide_type": "-"
    }
   },
   "source": [
    "There is one more way to install this package that doesn't work yet:\n",
    "\n",
    "    pip install myfunc\n",
    "    \n",
    "To do that, we need to have a user account on the **Py**thon **P**ackage **I**ndex ([pypi.org](https://pypi.org)) and upload our package there.\n",
    "\n",
    "\n",
    "We will do that in a moment, but for details see\n",
    "\n",
    "- [realpython.com: packaging](https://realpython.com/pypi-publish-python-package/)\n",
    "\n",
    "- and also [realpython.com: wheels](https://realpython.com/python-wheels/)\n",
    "\n",
    "To help us with this, we install `twine`.\n",
    "\n",
    "To not pollute the package index, there is a testing area [test.pypi.org](https://test.pypi.org).\n",
    "\n",
    "To create a source distribution we can upload, we can do\n",
    "\n",
    "    python setup.py sdist\n",
    "    \n",
    "Twine can help us with some checks\n",
    "\n",
    "    twine check dist/*\n",
    "    \n",
    "It's also worth unpacking that package to see if everything was included (otherwise it was missing in `MANIFEST.in`):\n",
    "\n",
    "    tar tzf myfuncs-0.0.1.tar.gz"
   ]
  },
  {
   "cell_type": "markdown",
   "metadata": {
    "slideshow": {
     "slide_type": "subslide"
    }
   },
   "source": [
    "### Uploading (testing)\n",
    "\n",
    "    twine upload --repository-url https://test.pypi.org/legacy/ dist/*\n",
    "    \n",
    "### Installing (testing)\n",
    "\n",
    "    pip install -i https://test.pypi.org/simple/ myfuncs\n",
    "    \n",
    "### Uploading (<span style=\"color:red\">real</span>)\n",
    "\n",
    "    twine upload dist/*\n",
    "    \n",
    "### Installing (<span style=\"color:red\">real</span>)\n",
    "\n",
    "    pip install myfuncs"
   ]
  },
  {
   "cell_type": "code",
   "execution_count": 9,
   "metadata": {
    "scrolled": true,
    "slideshow": {
     "slide_type": "skip"
    }
   },
   "outputs": [
    {
     "name": "stdout",
     "output_type": "stream",
     "text": [
      "[NbConvertApp] Converting notebook notebook.ipynb to slides\n",
      "[NbConvertApp] Writing 618622 bytes to notebook.slides.html\n",
      "[NbConvertApp] Redirecting reveal.js requests to https://cdnjs.cloudflare.com/ajax/libs/reveal.js/3.5.0\n",
      "Serving your slides at http://127.0.0.1:8000/notebook.slides.html\n",
      "Use Control-C to stop this server\n",
      "^C\n",
      "\n",
      "Interrupted\n"
     ]
    }
   ],
   "source": [
    "!jupyter nbconvert --to slides --post serve notebook.ipynb --SlidesExporter.reveal_scroll=True"
   ]
  }
 ],
 "metadata": {
  "celltoolbar": "Slideshow",
  "kernelspec": {
   "display_name": "Python 3",
   "language": "python",
   "name": "python3"
  }
 },
 "nbformat": 4,
 "nbformat_minor": 2
}
