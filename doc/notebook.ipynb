{
 "cells": [
  {
   "cell_type": "markdown",
   "metadata": {
    "slideshow": {
     "slide_type": "slide"
    }
   },
   "source": [
    "## Python Packaging\n",
    "\n",
    "for more info, see <https://packaging.python.org>"
   ]
  },
  {
   "cell_type": "markdown",
   "metadata": {
    "slideshow": {
     "slide_type": "slide"
    }
   },
   "source": [
    "## Why Packaging?\n",
    "\n",
    "Once you have started writing a few functions in a notebook, it quickly makes sense to put them in an extra file:"
   ]
  },
  {
   "cell_type": "code",
   "execution_count": 10,
   "metadata": {},
   "outputs": [],
   "source": [
    "f = 2"
   ]
  },
  {
   "cell_type": "code",
   "execution_count": 11,
   "metadata": {},
   "outputs": [],
   "source": [
    "def mypower(a):\n",
    "    return a**f"
   ]
  },
  {
   "cell_type": "code",
   "execution_count": 12,
   "metadata": {
    "slideshow": {
     "slide_type": "fragment"
    }
   },
   "outputs": [
    {
     "data": {
      "text/plain": [
       "4"
      ]
     },
     "execution_count": 12,
     "metadata": {},
     "output_type": "execute_result"
    }
   ],
   "source": [
    "mypower(2)"
   ]
  },
  {
   "cell_type": "code",
   "execution_count": 5,
   "metadata": {
    "slideshow": {
     "slide_type": "fragment"
    }
   },
   "outputs": [],
   "source": [
    "f = 'a figure'"
   ]
  },
  {
   "cell_type": "code",
   "execution_count": 13,
   "metadata": {
    "slideshow": {
     "slide_type": "fragment"
    }
   },
   "outputs": [
    {
     "data": {
      "text/plain": [
       "4"
      ]
     },
     "execution_count": 13,
     "metadata": {},
     "output_type": "execute_result"
    }
   ],
   "source": [
    "mypower(2)"
   ]
  },
  {
   "cell_type": "markdown",
   "metadata": {
    "slideshow": {
     "slide_type": "slide"
    }
   },
   "source": [
    "# Simplest packaging 1"
   ]
  },
  {
   "cell_type": "markdown",
   "metadata": {},
   "source": [
    "You put it in a file, e.g. `functions.py`. Upside:\n",
    "\n",
    "- it's encapsuled: no cross-talk / name space overlap\n",
    "- it cleans up your name space\n",
    "- the file can be opened in an *IDE*: shows errors"
   ]
  },
  {
   "cell_type": "markdown",
   "metadata": {},
   "source": [
    "<img src=\"image01.png\" width=50% />"
   ]
  },
  {
   "cell_type": "markdown",
   "metadata": {
    "slideshow": {
     "slide_type": "subslide"
    }
   },
   "source": [
    "# Simplest packaging 2"
   ]
  },
  {
   "cell_type": "markdown",
   "metadata": {},
   "source": [
    "**Upside** of this approach: **easy**\n",
    "\n",
    "```python\n",
    "from functions import mypower\n",
    "```\n",
    "\n",
    "**Downside** of this approach:\n",
    "\n",
    "- it works only *locally*, or you need to put the file where python can find it.\n",
    "\n",
    "Messy solution: use `PYTHONPATH`"
   ]
  },
  {
   "cell_type": "markdown",
   "metadata": {
    "slideshow": {
     "slide_type": "subslide"
    }
   },
   "source": [
    "# Simplest packaging 3"
   ]
  },
  {
   "cell_type": "markdown",
   "metadata": {},
   "source": [
    "Directly in your shell\n",
    "```bash\n",
    "export PYTHONPATH=/path/where/file/is$PYTHONPATH\n",
    "```"
   ]
  },
  {
   "cell_type": "markdown",
   "metadata": {
    "slideshow": {
     "slide_type": "fragment"
    }
   },
   "source": [
    "Or in python:\n",
    "\n",
    "```python\n",
    "import sys.env\n",
    "sys.path.insert(0, '/path/where/file/is')\n",
    "```"
   ]
  },
  {
   "cell_type": "markdown",
   "metadata": {
    "slideshow": {
     "slide_type": "fragment"
    }
   },
   "source": [
    "#### But don't do that!"
   ]
  },
  {
   "cell_type": "markdown",
   "metadata": {
    "slideshow": {
     "slide_type": "slide"
    }
   },
   "source": [
    "# Better packaging\n",
    "\n",
    "Make a package that can be installed"
   ]
  },
  {
   "cell_type": "markdown",
   "metadata": {},
   "source": [
    "Basic idea:\n",
    "    \n",
    "- **`setup.py`** installs the package `myfuncs`\n",
    "- **`__init__.py`** ... \n",
    "    - ... just needs to exist for python to realize that this folder is a package\n",
    "    - ... is called whenever you import the package\n",
    "    - ... can take care of 'arranging' the name space (see later)\n",
    "    - ... could also contain the code in a simple case with no other files in the `myfuncs` folder"
   ]
  },
  {
   "cell_type": "markdown",
   "metadata": {},
   "source": [
    "    /-|\n",
    "      |- myfuncs/\n",
    "      |  |- __init__.py\n",
    "      |  |- functions.py\n",
    "      |\n",
    "      |- setup.py"
   ]
  },
  {
   "cell_type": "markdown",
   "metadata": {
    "slideshow": {
     "slide_type": "subslide"
    }
   },
   "source": [
    "# Even better"
   ]
  },
  {
   "cell_type": "markdown",
   "metadata": {
    "slideshow": {
     "slide_type": "-"
    }
   },
   "source": [
    "    /-|\n",
    "      |- myfuncs/\n",
    "      |  |- __init__.py\n",
    "      |  |- functions.py\n",
    "      |\n",
    "      |- docs/\n",
    "      |  |- ...\n",
    "      |\n",
    "      |- tests/\n",
    "      |  |- ... \n",
    "      |\n",
    "      |- setup.py\n",
    "      |- README.md\n",
    "      |- LICENSE\n",
    "      |- MANIFEST.in\n",
    "      |- requirements.txt"
   ]
  },
  {
   "cell_type": "markdown",
   "metadata": {},
   "source": [
    "- **`README`**  \n",
    "    - is typically a `.md` or `.rst`\n",
    "    - is shown on the github website\n",
    "    - can be included in the package description (see `setup.py`)\n",
    "- **`LICENSE`**\n",
    "    - choose your license (github or creative commons have help pages to pick a license)\n",
    "    - is common but not required afaik\n",
    "- **`requirements.txt`**  \n",
    "    - is a simple requirements file, can also use `environment.yml`\n",
    "    - is just a text file containing required packages, e.g. containing:\n",
    "    \n",
    "            matplotlib>=1.5.1\n",
    "            numpy\n",
    "            scipy=0.17.0\n",
    "            -e git://github.com/birnstiel/XYZ.git#egg=XYZ        \n",
    "            \n",
    "- **MANIFEST.in**  \n",
    "    is used to announce which files should\n",
    "    be part of the package. Python files\n",
    "    are included automatically, so here our `MANIFEST.in` should contain\n",
    "    \n",
    "        include Readme.md\n",
    "        include LICENSE\n",
    "        include doc/notebook.ipynb"
   ]
  },
  {
   "cell_type": "markdown",
   "metadata": {
    "slideshow": {
     "slide_type": "subslide"
    }
   },
   "source": [
    "# `setup.py`\n",
    "\n",
    "from [packaging.python.org](https://packaging.python.org/tutorials/packaging-projects/):\n",
    "\n",
    "```python\n",
    "import setuptools\n",
    "\n",
    "with open(\"README.md\", \"r\", encoding=\"utf-8\") as fh:\n",
    "    long_description = fh.read()\n",
    "\n",
    "setuptools.setup(\n",
    "    name=\"example-pkg-YOUR-USERNAME-HERE\", # Replace with your own username\n",
    "    version=\"0.0.1\",\n",
    "    author=\"Example Author\",\n",
    "    author_email=\"author@example.com\",\n",
    "    description=\"A small example package\",\n",
    "    long_description=long_description,\n",
    "    long_description_content_type=\"text/markdown\",\n",
    "    url=\"https://github.com/pypa/sampleproject\",\n",
    "    packages=setuptools.find_packages(),\n",
    "    classifiers=[\n",
    "        \"Programming Language :: Python :: 3\",\n",
    "        \"License :: OSI Approved :: MIT License\",\n",
    "        \"Operating System :: OS Independent\",\n",
    "    ],\n",
    "    python_requires='>=3.6',\n",
    ")\n",
    "```"
   ]
  },
  {
   "cell_type": "markdown",
   "metadata": {
    "slideshow": {
     "slide_type": "subslide"
    }
   },
   "source": [
    "### My example:\n",
    "    \n",
    "```python\n",
    "\"\"\"\n",
    "Setup file for package `myfuncs`.\n",
    "\"\"\"\n",
    "from setuptools import setup\n",
    "import pathlib\n",
    "\n",
    "PACKAGENAME = 'myfuncs'\n",
    "\n",
    "# the directory where this setup.py resides\n",
    "\n",
    "HERE = pathlib.Path(__file__).absolute().parent\n",
    "\n",
    "# function to parse the version from\n",
    "\n",
    "\n",
    "def read_version():\n",
    "    with (HERE / PACKAGENAME / '__init__.py').open() as fid:\n",
    "        for line in fid:\n",
    "            if line.startswith('__version__'):\n",
    "                delim = '\"' if '\"' in line else \"'\"\n",
    "                return line.split(delim)[1]\n",
    "        else:\n",
    "            raise RuntimeError(\"Unable to find version string.\")\n",
    "\n",
    "\n",
    "if __name__ == \"__main__\":\n",
    "```\n",
    "\n",
    "#### ... to be continued"
   ]
  },
  {
   "cell_type": "markdown",
   "metadata": {
    "slideshow": {
     "slide_type": "subslide"
    }
   },
   "source": [
    "### My example [continued]\n",
    "\n",
    "```python\n",
    "\n",
    "    setup(\n",
    "        name=PACKAGENAME,\n",
    "        description='my helper functions',\n",
    "        version=read_version(),\n",
    "        long_description=(HERE / \"README.md\").read_text(),\n",
    "        long_description_content_type='text/markdown',\n",
    "        url='https://github.com/birnstiel/' + PACKAGENAME.lower(),\n",
    "        author='Til Birnstiel',\n",
    "        author_email='til.birnstiel@lmu.de',\n",
    "        license='GPLv3',\n",
    "        packages=[PACKAGENAME],\n",
    "        package_dir={PACKAGENAME: PACKAGENAME},\n",
    "        install_requires=[\n",
    "            'pytest',\n",
    "            'numpy'],\n",
    "        zip_safe=True,\n",
    "        python_requires='>=3.6',\n",
    "    )\n",
    "\n",
    "```"
   ]
  },
  {
   "cell_type": "code",
   "execution_count": 25,
   "metadata": {
    "slideshow": {
     "slide_type": "skip"
    }
   },
   "outputs": [
    {
     "name": "stdout",
     "output_type": "stream",
     "text": [
      "[NbConvertApp] Converting notebook notebook.ipynb to slides\n",
      "[NbConvertApp] Writing 591460 bytes to notebook.slides.html\n",
      "[NbConvertApp] Redirecting reveal.js requests to https://cdnjs.cloudflare.com/ajax/libs/reveal.js/3.5.0\n",
      "Serving your slides at http://127.0.0.1:8000/notebook.slides.html\n",
      "Use Control-C to stop this server\n",
      "^C\n",
      "\n",
      "Interrupted\n"
     ]
    }
   ],
   "source": [
    "!jupyter nbconvert --to slides --post serve notebook.ipynb --SlidesExporter.reveal_scroll=True"
   ]
  }
 ],
 "metadata": {
  "celltoolbar": "Slideshow",
  "kernelspec": {
   "display_name": "Python 3",
   "language": "python",
   "name": "python3"
  },
  "language_info": {
   "codemirror_mode": {
    "name": "ipython",
    "version": 3
   },
   "file_extension": ".py",
   "mimetype": "text/x-python",
   "name": "python",
   "nbconvert_exporter": "python",
   "pygments_lexer": "ipython3",
   "version": "3.8.5"
  }
 },
 "nbformat": 4,
 "nbformat_minor": 2
}
